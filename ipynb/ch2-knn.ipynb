{
 "cells": [
  {
   "cell_type": "code",
   "execution_count": 14,
   "metadata": {},
   "outputs": [
    {
     "name": "stdout",
     "output_type": "stream",
     "text": [
      "dist [128.68954892 118.22436297  16.55294536  18.43908891]\n",
      "k_labels ['动作片', '动作片', '爱情片']\n",
      "动作片\n"
     ]
    }
   ],
   "source": [
    "#https://github.com/Jack-Cherish/Machine-Learning/blob/master/kNN/\n",
    "# -*- coding: UTF-8 -*-\n",
    "import numpy as np\n",
    "import operator\n",
    "import collections\n",
    "\n",
    "def createDataSet():\n",
    "    #四组二维特征\n",
    "    group = np.array([[1,101],[5,89],[108,5],[115,8]])\n",
    "    #四组特征的标签\n",
    "    labels = ['爱情片','爱情片','动作片','动作片']\n",
    "    return group, labels\n",
    "\n",
    "\"\"\"\n",
    "函数说明:kNN算法,分类器\n",
    "Parameters:\n",
    "    inX - 用于分类的数据(测试集)\n",
    "    dataSet - 用于训练的数据(训练集)\n",
    "    labes - 分类标签\n",
    "    k - kNN算法参数,选择距离最小的k个点\n",
    "Returns:\n",
    "    sortedClassCount[0][0] - 分类结果\n",
    "\"\"\"\n",
    "def classify0(inx, dataset, labels, k):\n",
    "    # 计算距离\n",
    "    dist = np.sum((inx - dataset)**2, axis=1)**0.5\n",
    "    print(\"dist\",dist)\n",
    "    # k个最近的标签\n",
    "    k_labels = [labels[index] for index in dist.argsort()[0 : k]]\n",
    "    print(\"k_labels\",k_labels)\n",
    "    # 出现次数最多的标签即为最终类别\n",
    "    label = collections.Counter(k_labels).most_common(1)[0][0]\n",
    "    return label\n",
    "\n",
    "if __name__ == '__main__':\n",
    "    #创建数据集\n",
    "    group, labels = createDataSet()\n",
    "    #测试集\n",
    "    test = [101,20]\n",
    "    #kNN分类\n",
    "    test_class = classify0(test, group, labels, 3)\n",
    "    #打印分类结果\n",
    "    print(test_class)"
   ]
  },
  {
   "cell_type": "code",
   "execution_count": null,
   "metadata": {},
   "outputs": [],
   "source": [
    "#np.sum((inx - dataset)**2, axis=1)**0.5\n",
    "#[labels[index] for index in dist.argsort()[0 : k]]\n",
    "#collections.Counter(k_labels).most_common(1)[0][0]"
   ]
  }
 ],
 "metadata": {
  "kernelspec": {
   "display_name": "Python 3",
   "language": "python",
   "name": "python3"
  },
  "language_info": {
   "codemirror_mode": {
    "name": "ipython",
    "version": 3
   },
   "file_extension": ".py",
   "mimetype": "text/x-python",
   "name": "python",
   "nbconvert_exporter": "python",
   "pygments_lexer": "ipython3",
   "version": "3.6.4"
  }
 },
 "nbformat": 4,
 "nbformat_minor": 2
}
