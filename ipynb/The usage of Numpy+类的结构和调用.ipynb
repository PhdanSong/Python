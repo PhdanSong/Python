{
 "cells": [
  {
   "cell_type": "code",
   "execution_count": 2,
   "metadata": {},
   "outputs": [],
   "source": [
    "import numpy as np"
   ]
  },
  {
   "cell_type": "code",
   "execution_count": 10,
   "metadata": {},
   "outputs": [
    {
     "name": "stdout",
     "output_type": "stream",
     "text": [
      "[1 2 3 4 5]\n",
      "(5,)\n",
      "1\n",
      "[0. 0. 0. 0. 0.]\n",
      "[0.57548452 0.74734761 0.66113524 0.19578415 0.42678147]\n"
     ]
    }
   ],
   "source": [
    "#一维数组\n",
    "my_array = np.array([1,2,3,4,5])\n",
    "print(my_array) #[1 2 3 4 5]\n",
    "print(my_array.shape)#(5,)一个包含5个元素的数组\n",
    "print(my_array[0])# 1\n",
    "my_new_array = np.zeros((5)) \n",
    "print(my_new_array)# [0. 0. 0. 0. 0.]一个包含5个0元素的数组\n",
    "my_random_array = np.random.random((5))\n",
    "print(my_random_array)#[0.58661046 0.12141738 0.94540112 0.84402769 0.46708468]一个包含5个随机数的数组，取值0-1"
   ]
  },
  {
   "cell_type": "code",
   "execution_count": 18,
   "metadata": {},
   "outputs": [
    {
     "name": "stdout",
     "output_type": "stream",
     "text": [
      "[[0. 0. 0.]\n",
      " [0. 0. 0.]]\n",
      "[[1. 1. 1. 1.]\n",
      " [1. 1. 1. 1.]]\n",
      "5\n",
      "(2, 2)\n",
      "[5 1]\n",
      "(2,)\n"
     ]
    }
   ],
   "source": [
    "#二维数组\n",
    "my_2d_array = np.zeros((2, 3)) #创建2行3列全0数组\n",
    "print(my_2d_array)\n",
    "# [[0. 0. 0.]\n",
    "#  [0. 0. 0.]]\n",
    "\n",
    "my_2d_array_new = np.ones((2, 4)) #创建2行4列全1数组\n",
    "print(my_2d_array_new)\n",
    "# [[1. 1. 1. 1.]\n",
    "#  [1. 1. 1. 1.]]\n",
    "\n",
    "my_array = np.array([[4, 5], [6, 1]])\n",
    "print(my_array[0][1]) #5\n",
    "print(my_array.shape)#(2,2)\n",
    "\n",
    "my_array_column_2 = my_array[:, 1] #取出所有行的第1列\n",
    "print(my_array_column_2)#[5 1]\n",
    "print(my_array_column_2.shape)#(2,)数组"
   ]
  },
  {
   "cell_type": "code",
   "execution_count": 25,
   "metadata": {},
   "outputs": [
    {
     "name": "stdout",
     "output_type": "stream",
     "text": [
      "sum = \n",
      " [[ 6.  8.]\n",
      " [10. 12.]]\n",
      "difference = \n",
      " [[-4. -4.]\n",
      " [-4. -4.]]\n",
      "Product = \n",
      " [[ 5. 12.]\n",
      " [21. 32.]]\n",
      "Quotient = \n",
      " [[0.2        0.33333333]\n",
      " [0.42857143 0.5       ]]\n",
      "Matrix Product =  [[19. 22.]\n",
      " [43. 50.]]\n"
     ]
    }
   ],
   "source": [
    "#数组操作\n",
    "import numpy as np\n",
    "a = np.array([[1.0,2.0],[3.0,4.0]])\n",
    "b = np.array([[5.0,6.0],[7.0,8.0]])\n",
    "sum = a + b\n",
    "difference = a - b\n",
    "product = a * b\n",
    "quotient = a / b\n",
    "print(\"sum = \\n\",sum)\n",
    "# sum = \n",
    "#  [[ 6.  8.]\n",
    "#  [10. 12.]]\n",
    "print(\"difference = \\n\",difference)\n",
    "# difference = \n",
    "#  [[-4. -4.]\n",
    "#  [-4. -4.]]\n",
    "print(\"Product = \\n\",product)\n",
    "# Product = \n",
    "#  [[ 5. 12.]\n",
    "#  [21. 32.]]\n",
    "print(\"Quotient = \\n\",quotient)\n",
    "# Quotient = \n",
    "#  [[0.2        0.33333333]\n",
    "#  [0.42857143 0.5       ]]\n",
    "matrix_product = a.dot(b) \n",
    "print(\"Matrix Product = \", matrix_product)\n",
    "# Matrix Product =  [[19. 22.]\n",
    "#  [43. 50.]]"
   ]
  },
  {
   "cell_type": "code",
   "execution_count": 31,
   "metadata": {},
   "outputs": [
    {
     "name": "stdout",
     "output_type": "stream",
     "text": [
      "[0 1 2 3 4]\n",
      "(5,)\n",
      "[0 1 2 3 4]\n",
      "(5,)\n",
      "[0 1 2 3 4]\n",
      "(5,)\n",
      "[[11 12 13 14 15]\n",
      " [16 17 18 19 20]\n",
      " [21 22 23 24 25]\n",
      " [26 27 28 29 30]\n",
      " [31 32 33 34 35]]\n",
      "(5, 5)\n"
     ]
    }
   ],
   "source": [
    "#创建数组\n",
    "a = np.array([0, 1, 2, 3, 4])\n",
    "b = np.array((0, 1, 2, 3, 4))\n",
    "c = np.arange(5)\n",
    "d = np.array([[11, 12, 13, 14, 15],\n",
    "              [16, 17, 18, 19, 20],\n",
    "              [21, 22, 23, 24, 25],\n",
    "              [26, 27, 28 ,29, 30],\n",
    "              [31, 32, 33, 34, 35]])\n",
    "print(a)#[0 1 2 3 4]\n",
    "print(a.shape)#(5,)\n",
    "print(b)#[0 1 2 3 4]\n",
    "print(b.shape)#(5,)\n",
    "print(c)#[0 1 2 3 4]\n",
    "print(c.shape)#(5,)\n",
    "print(d)\n",
    "# [[11 12 13 14 15]\n",
    "#  [16 17 18 19 20]\n",
    "#  [21 22 23 24 25]\n",
    "#  [26 27 28 29 30]\n",
    "#  [31 32 33 34 35]]\n",
    "print(d.shape)#(5, 5)"
   ]
  },
  {
   "cell_type": "code",
   "execution_count": 303,
   "metadata": {},
   "outputs": [
    {
     "name": "stdout",
     "output_type": "stream",
     "text": [
      "[12 13 14]\n",
      "[16 21 26]\n",
      "[[11 13 15]\n",
      " [21 23 25]\n",
      " [31 33 35]]\n",
      "[12 17 22 27 32]\n",
      "[[21 22 23 24 25]\n",
      " [26 27 28 29 30]]\n",
      "[[13 14]\n",
      " [18 19]\n",
      " [23 24]\n",
      " [28 29]\n",
      " [33 34]]\n",
      "[[35 34 33 32 31]\n",
      " [30 29 28 27 26]\n",
      " [25 24 23 22 21]\n",
      " [20 19 18 17 16]\n",
      " [15 14 13 12 11]]\n"
     ]
    }
   ],
   "source": [
    "#多维数组切片\n",
    "a = np.array([[11, 12, 13, 14, 15],\n",
    "              [16, 17, 18, 19, 20],\n",
    "              [21, 22, 23, 24, 25],\n",
    "              [26, 27, 28 ,29, 30],\n",
    "              [31, 32, 33, 34, 35]])\n",
    "print(a[0, 1:4]) # [12 13 14]\n",
    "print(a[1:4, 0]) # [16 21 26]\n",
    "print(a[::2,::2]) #间隔为2\n",
    "# [[11 13 15]\n",
    "#  [21 23 25]\n",
    "#  [31 33 35]]\n",
    "print(a[:, 1]) # [12 17 22 27 32]\n",
    "print(a[2:4,:])\n",
    "# [[21 22 23 24 25]\n",
    "#  [26 27 28 29 30]]\n",
    "print(a[:,2:4])\n",
    "# [[13 14]\n",
    "#  [18 19]\n",
    "#  [23 24]\n",
    "#  [28 29]\n",
    "#  [33 34]]\n",
    "print(a[::-1,::-1])"
   ]
  },
  {
   "cell_type": "code",
   "execution_count": 37,
   "metadata": {},
   "outputs": [
    {
     "name": "stdout",
     "output_type": "stream",
     "text": [
      "<class 'numpy.ndarray'>\n",
      "int64\n",
      "25\n",
      "(5, 5)\n",
      "2\n"
     ]
    }
   ],
   "source": [
    "#数组属性\n",
    "a = np.array([[11, 12, 13, 14, 15],\n",
    "              [16, 17, 18, 19, 20],\n",
    "              [21, 22, 23, 24, 25],\n",
    "              [26, 27, 28 ,29, 30],\n",
    "              [31, 32, 33, 34, 35]])\n",
    "\n",
    "print(type(a)) # <class 'numpy.ndarray'>\n",
    "print(a.dtype) # int64\n",
    "print(a.size) # 25\n",
    "print(a.shape) # (5, 5)\n",
    "print(a.ndim) # 2"
   ]
  },
  {
   "cell_type": "code",
   "execution_count": 47,
   "metadata": {},
   "outputs": [
    {
     "name": "stdout",
     "output_type": "stream",
     "text": [
      "[[0 1 2]\n",
      " [3 4 5]\n",
      " [6 7 8]]\n",
      "[[10  2  1]\n",
      " [ 4  2  6]\n",
      " [ 7  2  1]]\n",
      "[[10  3  3]\n",
      " [ 7  6 11]\n",
      " [13  9  9]]\n",
      "[[-10  -1   1]\n",
      " [ -1   2  -1]\n",
      " [ -1   5   7]]\n",
      "[[ 0  2  2]\n",
      " [12  8 30]\n",
      " [42 14  8]]\n",
      "[[0.         0.5        2.        ]\n",
      " [0.75       2.         0.83333333]\n",
      " [0.85714286 3.5        8.        ]]\n",
      "[[ 0  1  4]\n",
      " [ 9 16 25]\n",
      " [36 49 64]]\n",
      "[[ 18   6   8]\n",
      " [ 81  24  32]\n",
      " [144  42  56]]\n"
     ]
    }
   ],
   "source": [
    "#基本操作符\n",
    "a = np.arange(9)\n",
    "a = a.reshape((3,3))\n",
    "b = np.array([10, 2, 1, 4, 2, 6, 7, 2, 1])\n",
    "b = b.reshape((3,3))\n",
    "print(a)\n",
    "# [[0 1 2]\n",
    "#  [3 4 5]\n",
    "#  [6 7 8]]\n",
    "print(b)#按行更改\n",
    "# [[10  2  1]\n",
    "#  [ 4  2  6]\n",
    "#  [ 7  2  1]]\n",
    "print(a + b)\n",
    "# [[10  3  3]\n",
    "#  [ 7  6 11]\n",
    "#  [13  9  9]]\n",
    "print(a - b)\n",
    "# [[-10  -1   1]\n",
    "#  [ -1   2  -1]\n",
    "#  [ -1   5   7]]\n",
    "print(a * b)\n",
    "print(a / b)\n",
    "print(a ** 2)\n",
    "print(a.dot(b))#矩阵乘（点积）\n",
    "# [[ 18   6   8]\n",
    "#  [ 81  24  32]\n",
    "#  [144  42  56]]"
   ]
  },
  {
   "cell_type": "code",
   "execution_count": 49,
   "metadata": {},
   "outputs": [
    {
     "name": "stdout",
     "output_type": "stream",
     "text": [
      "[0 1 2 3 4 5 6 7 8 9]\n",
      "45\n",
      "0\n",
      "9\n",
      "[ 0  1  3  6 10 15 21 28 36 45]\n"
     ]
    }
   ],
   "source": [
    "#特殊运算符\n",
    "a = np.arange(10)\n",
    "print(a)\n",
    "print(a.sum()) # >>>45\n",
    "print(a.min()) # >>>0\n",
    "print(a.max()) # >>>9\n",
    "print(a.cumsum()) # >>>[ 0  1  3  6 10 15 21 28 36 45]第一个值为a[0],第二个值为a[0]+a[1],第三个值为a[0]+a[1]+a[2]……"
   ]
  },
  {
   "cell_type": "code",
   "execution_count": 306,
   "metadata": {},
   "outputs": [
    {
     "name": "stdout",
     "output_type": "stream",
     "text": [
      "<class 'list'>\n",
      "[ 0 10 20 30 40 50 60 70 80 90]\n",
      "[10 50 90]\n"
     ]
    }
   ],
   "source": [
    "#索引\n",
    "a = np.arange(0, 100, 10)\n",
    "indices = [1, 5, -1]\n",
    "print(type(indices))\n",
    "b = a[indices]\n",
    "print(a) # >>>[ 0 10 20 30 40 50 60 70 80 90]\n",
    "print(b) # >>>[10 50 90]"
   ]
  },
  {
   "cell_type": "code",
   "execution_count": 5,
   "metadata": {},
   "outputs": [
    {
     "name": "stdout",
     "output_type": "stream",
     "text": [
      "[ True  True  True  True  True  True  True  True  True  True  True  True\n",
      "  True  True  True  True  True  True  True  True  True  True  True  True\n",
      "  True False False False False False False False False False False False\n",
      " False False False False False False False False False False False False\n",
      " False False]\n"
     ]
    },
    {
     "data": {
      "image/png": "[encoded data removed]",
      "text/plain": [
       "<matplotlib.figure.Figure at 0x7ff3cc30ccf8>"
      ]
     },
     "metadata": {},
     "output_type": "display_data"
    }
   ],
   "source": [
    "#布尔屏蔽\n",
    "import matplotlib.pyplot as plt\n",
    "import numpy as np\n",
    "a = np.linspace(0, 2 * np.pi, 50)\n",
    "b = np.sin(a)\n",
    "plt.rcParams['figure.figsize']=(5.0,4.0)\n",
    "# plt.rcParams['image.interpolation']='nearest'\n",
    "# plt.rcParams['image.cmap']='gray'\n",
    "plt.plot(a,b)\n",
    "mask = (b >= 0)\n",
    "print(mask)\n",
    "# plt.plot(a[mask], b[mask], 'bo')\n",
    "# mask = (b >= 0) & (a <= np.pi / 2)\n",
    "# plt.plot(a[mask], b[mask], 'go')\n",
    "plt.show()"
   ]
  },
  {
   "cell_type": "code",
   "execution_count": 6,
   "metadata": {},
   "outputs": [
    {
     "data": {
      "image/png": "[encoded data removed]",
      "text/plain": [
       "<matplotlib.figure.Figure at 0x7ff3cc3f07f0>"
      ]
     },
     "metadata": {},
     "output_type": "display_data"
    }
   ],
   "source": [
    "import numpy as np\n",
    "import matplotlib.pyplot as plt\n",
    "\n",
    "X_train = np.array([[1,2,3],[2,3,4],[2,2,1],[3,2,2]])\n",
    "X_test = np.array([[1,1,1],[2,1,1]])\n",
    "\n",
    "y_train = np.array([1,1,-1,1])\n",
    "y_test = np.array([1,-1])\n",
    "\n",
    "plt.rcParams['figure.figsize']=(5.0,4.0)\n",
    "plt.plot(X_train[:,0],X_train[:,1],\"ro\")\n",
    "plt.show()"
   ]
  },
  {
   "cell_type": "code",
   "execution_count": 67,
   "metadata": {},
   "outputs": [
    {
     "name": "stdout",
     "output_type": "stream",
     "text": [
      "[ 0 10 20 30 40 50 60 70 80 90]\n",
      "[ 0 10 20 30 40]\n",
      "[50 60 70 80 90]\n"
     ]
    }
   ],
   "source": [
    "#缺省索引\n",
    "a = np.arange(0, 100, 10)\n",
    "b = a[:5]\n",
    "c = a[a >= 50]\n",
    "print(a) # [ 0 10 20 30 40 50 60 70 80 90]\n",
    "print(b) # [ 0 10 20 30 40]\n",
    "print(c) # [50 60 70 80 90]"
   ]
  },
  {
   "cell_type": "code",
   "execution_count": 308,
   "metadata": {},
   "outputs": [
    {
     "name": "stdout",
     "output_type": "stream",
     "text": [
      "[10 50 70 20]\n",
      "(array([0, 3]),)\n",
      "[1 2]\n"
     ]
    }
   ],
   "source": [
    "#Where 函数\n",
    "a = np.arange(0, 100, 10)\n",
    "a = np.array((10,50,70,20))\n",
    "b = np.where(a < 50) #下标数组\n",
    "c = np.where(a >= 50)[0] #下标\n",
    "print(a) # [ 0 10 20 30 40 50 60 70 80 90]\n",
    "print(b) # (array([0, 1, 2, 3, 4]),)\n",
    "print(c) # [5 6 7 8 9]"
   ]
  },
  {
   "cell_type": "code",
   "execution_count": 76,
   "metadata": {},
   "outputs": [
    {
     "name": "stdout",
     "output_type": "stream",
     "text": [
      "<class 'int'>\n",
      "<class 'float'>\n",
      "<class 'bool'>\n",
      "False\n",
      "True\n",
      "False\n",
      "True\n",
      "hello\n",
      "5\n",
      "hello world\n",
      "hello world 12\n",
      "Hello\n",
      "HELLO\n",
      "  hello\n",
      " hello \n",
      "he(ell)(ell)o\n",
      "world\n"
     ]
    }
   ],
   "source": [
    "#数字类型\n",
    "x = 3\n",
    "print(type(x)) # Prints \"<class 'int'>\"\n",
    "y = 2.5\n",
    "print(type(y)) # Prints \"<class 'float'>\"\n",
    "#Booleans(布尔类型)\n",
    "t = True\n",
    "f = False\n",
    "print(type(t)) # Prints \"<class 'bool'>\"\n",
    "print(t and f) # Logical AND; prints \"False\"\n",
    "print(t or f)  # Logical OR; prints \"True\"\n",
    "print(not t)   # Logical NOT; prints \"False\"\n",
    "print(t != f)  # Logical XOR; prints \"True\"\n",
    "# Strings(字符串类型)\n",
    "hello = 'hello'  \n",
    "world = \"world\"    \n",
    "print(hello)       # \"hello\"\n",
    "print(len(hello))  # \"5\"\n",
    "hw = hello + ' ' + world \n",
    "print(hw)  # \"hello world\"\n",
    "hw12 = '%s %s %d' % (hello, world, 12) \n",
    "print(hw12)  # \"hello world 12\"\n",
    "\n",
    "s = \"hello\"\n",
    "print(s.capitalize())  # Capitalize a string; prints \"Hello\"\n",
    "print(s.upper())       # 大写 \"HELLO\"\n",
    "print(s.rjust(7))      # 靠右，prints \"  hello\"\n",
    "print(s.center(7))     # 中间，prints \" hello \"\n",
    "print(s.replace('l', '(ell)'))  # 将l换成ell  \"he(ell)(ell)o\"\n",
    "print('  world '.strip())  #删除空格，prints \"world\""
   ]
  },
  {
   "cell_type": "code",
   "execution_count": 78,
   "metadata": {},
   "outputs": [
    {
     "name": "stdout",
     "output_type": "stream",
     "text": [
      "[3, 1, 2] 2\n",
      "2\n",
      "[3, 1, 'foo']\n",
      "[3, 1, 'foo', 'bar']\n",
      "bar [3, 1, 'foo']\n"
     ]
    }
   ],
   "source": [
    "#列表list\n",
    "xs = [3, 1, 2]    # 列表\n",
    "print(xs, xs[2])  # \"[3, 1, 2] 2\"\n",
    "print(xs[-1])     #  \"2\"\n",
    "xs[2] = 'foo'     # 列表中元素类型可以不同\n",
    "print(xs)         # [3, 1, 'foo']\n",
    "xs.append('bar')  # 末尾添加\n",
    "print(xs)         # [3, 1, 'foo', 'bar']\"\n",
    "x = xs.pop()      # 末尾去除\n",
    "print(x, xs)      # bar [3, 1, 'foo']\"\n",
    "\n",
    "#list切片\n",
    "nums = list(range(5))     # list \n",
    "print(nums)               # [0, 1, 2, 3, 4]\n",
    "print(nums[2:4])          # [2, 3]\n",
    "print(nums[2:])           # [2, 3, 4]\n",
    "print(nums[:2])           # [0, 1]\n",
    "print(nums[:])            # [0, 1, 2, 3, 4]\n",
    "print(nums[:-1])          # [0, 1, 2, 3]\n",
    "nums[2:4] = [8, 9] \n",
    "print(nums)               #[0, 1, 8, 9, 4]\n",
    "\n",
    "#循环\n",
    "animals = ['cat', 'dog', 'monkey']\n",
    "for animal in animals:\n",
    "    print(animal)\n",
    "# cat\n",
    "# dog\n",
    "# monkey\n",
    "\n",
    "#加索引\n",
    "animals = ['cat', 'dog', 'monkey']\n",
    "for idx, animal in enumerate(animals):\n",
    "    print('%d: %s' % (idx + 1, animal))\n",
    "#1: cat\n",
    "#2: dog\n",
    "#3: monkey\n",
    "\n",
    "#声明空列表a = [],声明空字典b = {}\n",
    "\n",
    "#列表推导式\n",
    "nums = [0, 1, 2, 3, 4]\n",
    "squares = []\n",
    "for x in nums:\n",
    "    squares.append(x ** 2)\n",
    "print(squares)   # Prints [0, 1, 4, 9, 16]\n",
    "\n",
    "#等价于\n",
    "\n",
    "nums = [0, 1, 2, 3, 4]\n",
    "squares = [x ** 2 for x in nums]\n",
    "print(squares)   # Prints [0, 1, 4, 9, 16]\n",
    "\n",
    "#包含if条件\n",
    "nums = [0, 1, 2, 3, 4]\n",
    "even_squares = [x ** 2 for x in nums if x % 2 == 0]\n",
    "print(even_squares)  # Prints \"[0, 4, 16]\""
   ]
  },
  {
   "cell_type": "code",
   "execution_count": 96,
   "metadata": {},
   "outputs": [
    {
     "name": "stdout",
     "output_type": "stream",
     "text": [
      "cute\n",
      "True\n",
      "wet\n",
      "N/A\n",
      "wet\n",
      "N/A\n",
      "A person has 2 legs\n",
      "A cat has 4 legs\n",
      "A spider has 8 legs\n",
      "A person has 2 legs\n",
      "A cat has 4 legs\n",
      "A spider has 8 legs\n",
      "{0: 0, 2: 4, 4: 16}\n"
     ]
    }
   ],
   "source": [
    "#字典\n",
    "d = {'cat': 'cute', 'dog': 'furry'} \n",
    "print(d['cat'])       # \"cute\"\n",
    "print('cat' in d)     # \"True\"\n",
    "d['fish'] = 'wet'     # 添加\n",
    "print(d['fish'])      # \"wet\"\n",
    "print(d.get('monkey', 'N/A'))  # N/A\"\n",
    "print(d.get('fish', 'N/A'))    # \"wet\"\n",
    "del d['fish']         # 删除\n",
    "print(d.get('fish', 'N/A')) # \"N/A\"\n",
    "\n",
    "#循环1\n",
    "d = {'person': 2, 'cat': 4, 'spider': 8}\n",
    "for animal in d:\n",
    "    legs = d[animal] #得到键\n",
    "    print('A %s has %d legs' % (animal, legs))\n",
    "# A person has 2 legs\n",
    "# A cat has 4 legs\n",
    "# A spider has 8 legs  \n",
    "\n",
    "#循环2\n",
    "d = {'person': 2, 'cat': 4, 'spider': 8}\n",
    "for animal, legs in d.items():#得到键值对\n",
    "    print('A %s has %d legs' % (animal, legs))\n",
    "# A person has 2 legs\n",
    "# A cat has 4 legs\n",
    "# A spider has 8 legs\n",
    "\n",
    "#函数推导式\n",
    "nums = [0, 1, 2, 3, 4]\n",
    "even_num_to_square = {x: x ** 2 for x in nums if x % 2 == 0}\n",
    "print(even_num_to_square)  \n",
    "# Prints \"{0: 0, 2: 4, 4: 16}\""
   ]
  },
  {
   "cell_type": "code",
   "execution_count": 101,
   "metadata": {},
   "outputs": [
    {
     "name": "stdout",
     "output_type": "stream",
     "text": [
      "True\n",
      "False\n",
      "True\n",
      "3\n",
      "3\n",
      "2\n",
      "1: dog\n",
      "2: cat\n",
      "3: fish\n"
     ]
    }
   ],
   "source": [
    "#集合\n",
    "animals = {'cat', 'dog'}\n",
    "print('cat' in animals)   # True\n",
    "print('fish' in animals)  # False\n",
    "animals.add('fish')       \n",
    "print('fish' in animals)  # True\n",
    "print(len(animals))       # 3\n",
    "animals.add('cat')        # do nothing\n",
    "print(len(animals))       # 3\n",
    "animals.remove('cat')     # 删除\n",
    "print(len(animals))       # 2\n",
    "\n",
    "#循环\n",
    "animals = {'cat', 'dog', 'fish'}\n",
    "for idx, animal in enumerate(animals):\n",
    "    print('%d: %s' % (idx + 1, animal))#无序\n",
    "# 1: dog\n",
    "# 2: cat\n",
    "# 3: fish"
   ]
  },
  {
   "cell_type": "code",
   "execution_count": 104,
   "metadata": {},
   "outputs": [
    {
     "name": "stdout",
     "output_type": "stream",
     "text": [
      "{(0, 1): 0, (1, 2): 1, (2, 3): 2, (3, 4): 3, (4, 5): 4, (5, 6): 5, (6, 7): 6, (7, 8): 7, (8, 9): 8, (9, 10): 9}\n",
      "<class 'tuple'>\n",
      "5\n",
      "1\n"
     ]
    }
   ],
   "source": [
    "#元组\n",
    "d = {(x, x + 1): x for x in range(10)}  # Create a dictionary with tuple keys\n",
    "print(d)\n",
    "#{(0, 1): 0, (1, 2): 1, (2, 3): 2, (3, 4): 3, (4, 5): 4, (5, 6): 5, (6, 7): 6, (7, 8): 7, (8, 9): 8, (9, 10): 9}\n",
    "t = (5, 6)        # Create a tuple\n",
    "print(type(t))    # Prints \"<class 'tuple'>\"\n",
    "print(d[t])       # Prints \"5\"\n",
    "print(d[(1, 2)])  # Prints \"1\""
   ]
  },
  {
   "cell_type": "code",
   "execution_count": 103,
   "metadata": {},
   "outputs": [
    {
     "name": "stdout",
     "output_type": "stream",
     "text": [
      "Hello, Fred\n",
      "HELLO, FRED!\n"
     ]
    }
   ],
   "source": [
    "#类\n",
    "class Greeter(object):\n",
    "\n",
    "    # Constructor\n",
    "    def __init__(self, name):\n",
    "        self.name = name  # Create an instance variable\n",
    "\n",
    "    # Instance method\n",
    "    def greet(self, loud=False):\n",
    "        if loud:\n",
    "            print('HELLO, %s!' % self.name.upper())\n",
    "        else:\n",
    "            print('Hello, %s' % self.name)\n",
    "\n",
    "g = Greeter('Fred')  # 生成对象\n",
    "g.greet()            # \"Hello, Fred\"\n",
    "g.greet(loud=True)   # \"HELLO, FRED!\""
   ]
  },
  {
   "cell_type": "code",
   "execution_count": 105,
   "metadata": {},
   "outputs": [
    {
     "name": "stdout",
     "output_type": "stream",
     "text": [
      "[[0. 0.]\n",
      " [0. 0.]]\n",
      "[[1. 1.]]\n",
      "[[7 7]\n",
      " [7 7]]\n",
      "[[1. 0.]\n",
      " [0. 1.]]\n",
      "[[0.14483878 0.93726129]\n",
      " [0.787366   0.46925537]]\n"
     ]
    }
   ],
   "source": [
    "#创建数组\n",
    "import numpy as np\n",
    "\n",
    "a = np.zeros((2,2))  \n",
    "print(a)             \n",
    "# [[0. 0.]\n",
    "#  [0. 0.]]                   \n",
    "b = np.ones((1,2))   \n",
    "print(b)              \n",
    "#[[1. 1.]]\n",
    "c = np.full((2,2), 7)  \n",
    "print(c)               \n",
    "# [[7 7]\n",
    "#  [7 7]]                     \n",
    "d = np.eye(2)         \n",
    "print(d)            \n",
    "# [[1. 0.]\n",
    "#  [0. 1.]]                    \n",
    "e = np.random.random((2,2))  \n",
    "print(e)                     \n",
    "# [[0.14483878 0.93726129]\n",
    "#  [0.787366   0.46925537]]"
   ]
  },
  {
   "cell_type": "code",
   "execution_count": 110,
   "metadata": {},
   "outputs": [
    {
     "name": "stdout",
     "output_type": "stream",
     "text": [
      "[0 1 2 3] [0 2 0 1]\n",
      "[ 1  6  7 11]\n"
     ]
    }
   ],
   "source": [
    "a = np.array([[1,2,3], [4,5,6], [7,8,9], [10, 11, 12]])\n",
    "\n",
    "  # prints \"array([[ 1,  2,  3],\n",
    "          #                [ 4,  5,  6],\n",
    "          #                [ 7,  8,  9],\n",
    "          #                [10, 11, 12]])\"\n",
    "\n",
    "# Create an array of indices\n",
    "b = np.array([0, 2, 0, 1])\n",
    "print(np.arange(4),b) #[0 1 2 3] [0 2 0 1]\n",
    "# Select one element from each row of a using the indices in b\n",
    "print(a[np.arange(4), b])  # Prints \"[ 1  6  7 11]\""
   ]
  },
  {
   "cell_type": "code",
   "execution_count": 119,
   "metadata": {},
   "outputs": [
    {
     "name": "stdout",
     "output_type": "stream",
     "text": [
      "[[0.6 0.7 0.2]\n",
      " [0.7 0.7 0.7]\n",
      " [0.7 0.1 0.5]\n",
      " [0.9 0.6 0.1]\n",
      " [0.9 0.6 0.3]]\n",
      "[[0.7 0.2 0.2]\n",
      " [0.2 0.1 0.6]\n",
      " [0.1 0.5 0.4]\n",
      " [0.5 0.1 0.6]\n",
      " [0.  0.3 0.1]]\n"
     ]
    },
    {
     "data": {
      "text/plain": [
       "array([[0.7, 0.2, 0.2],\n",
       "       [0.2, 0.1, 0.6],\n",
       "       [0.1, 0.5, 0.4],\n",
       "       [0.5, 0.1, 0.6],\n",
       "       [0. , 0.3, 0.1]])"
      ]
     },
     "execution_count": 119,
     "metadata": {},
     "output_type": "execute_result"
    }
   ],
   "source": [
    "#在numpy数组中只打印小数点后三位？\n",
    "# Input\n",
    "rand_arr = np.random.random((5,3))\n",
    "print(rand_arr)\n",
    "# [[0.161 0.211 0.163]\n",
    "#  [0.869 0.714 0.712]\n",
    "#  [0.867 0.982 0.88 ]\n",
    "#  [0.155 0.92  0.461]\n",
    "#  [0.855 0.305 0.004]]\n",
    "\n",
    "rand_arr = np.random.random([5,3])\n",
    "print(rand_arr)\n",
    "# [[0.992 0.329 0.845]\n",
    "#  [0.843 0.929 0.286]\n",
    "#  [0.976 0.134 0.961]\n",
    "#  [0.658 0.565 0.322]\n",
    "#  [0.331 0.052 0.827]]\n",
    "\n",
    "# Limit to 3 decimal places\n",
    "np.set_printoptions(precision=1)  \n",
    "rand_arr[:5]  #前5行\n",
    "# array([[0.161, 0.609, 0.748],\n",
    "#        [0.411, 0.405, 0.271],\n",
    "#        [0.49 , 0.096, 0.588],\n",
    "#        [0.584, 0.018, 0.18 ]])"
   ]
  },
  {
   "cell_type": "code",
   "execution_count": 302,
   "metadata": {},
   "outputs": [
    {
     "name": "stdout",
     "output_type": "stream",
     "text": [
      "nan\n"
     ]
    },
    {
     "data": {
      "text/plain": [
       "True"
      ]
     },
     "execution_count": 302,
     "metadata": {},
     "output_type": "execute_result"
    }
   ],
   "source": [
    "#导入iris数据集\n",
    "from sklearn.datasets import load_iris\n",
    "iris = load_iris()\n",
    "data = iris['data']\n",
    "# print(data)\n",
    "target = iris['target']\n",
    "# print(target)\n",
    "\n",
    "#求出鸢尾属植物萼片长度的平均值、中位数和标准差(第1列)\n",
    "mu, med, sd = np.mean(data[:,0]), np.median(data[:,0]), np.std(data[:,0])\n",
    "# print(mu, med, sd)\n",
    "\n",
    "#创建一种标准化形式的鸢尾属植物间隔长度，其值正好介于0和1之间，这样最小值为0，最大值为1。\n",
    "Smax, Smin = data[:,0].max(), data[:,0].min()\n",
    "S = (data[:,0] - Smin)/(Smax - Smin)\n",
    "# print(S)\n",
    "\n",
    "#第4列中查找第一次出现的值大于1.0的位置。\n",
    "np.argwhere(data[:,3].astype(float) > 1.0)[0]  #array([50])\n",
    "\n",
    "vals, counts = np.unique(data[:, 2], return_counts=True)\n",
    "# print(vals[np.argmax(counts)])#np.unique存放的只有下标，没有值\n",
    "\n",
    "#根据data[0]列对所有数据进行排序。\n",
    "# print(data[data[:,0].argsort()][:20])\n",
    "\n",
    "#第二长的物种setosa的价值是多少\n",
    "petal_len_setosa = data[51:100,2:3].astype('float')\n",
    "# print(np.unique(np.sort(petal_len_setosa,axis = 0)))\n",
    "# [3.  3.3 3.5 3.6 3.7 3.8 3.9 4.  4.1 4.2 4.3 4.4 4.5 4.6 4.7 4.8 4.9 5. 5.1]\n",
    "# print(\"\\n\")\n",
    "# print(np.unique(np.sort(petal_len_setosa,axis = 0))[-2])#取第二大元素\n",
    "#声明 return_index=True时，保存的下标，默认时元素\n",
    "\n",
    "#随机取样\n",
    "a1 = np.random.choice(a=5, size=3, replace=False, p=None)\n",
    "# print(\"a1\",a1)#在0-5之间取3个数\n",
    "np.random.choice((50), 20)\n",
    "\n",
    "#在data中第0行查找缺失值的数量和位置（第1列）\n",
    "# print(\"Number of missing values: \\n\", np.isnan(data[:, 0]).sum())\n",
    "# print(\"Position of missing values: \\n\", np.where(np.isnan(data[:, 0])))\n",
    "\n",
    "#petallength（第3列）> 1.5 和 sepallength（第1列）< 5.0 的iris_2d行\n",
    "condition = (data[:, 2] > 1.5) & (data[:, 0] < 5.0)\n",
    "data[condition]\n",
    "\n",
    "#选择没有任何nan值的data行。\n",
    "data[np.random.randint(150, size=20), np.random.randint(4, size=20)] = np.nan\n",
    "#nu.sum(bool)时，true为1，false为0\n",
    "data[np.sum(np.isnan(data), axis = 1) == 0][:5]\n",
    "# array([[5.1, 3.5, 1.4, 0.2],\n",
    "#        [4.9, 3. , 1.4, 0.2],\n",
    "#        [4.7, 3.2, 1.3, 0.2],\n",
    "#        [4.6, 3.1, 1.5, 0.2],\n",
    "#        [5. , 3.6, 1.4, 0.2]])\n",
    "\n",
    "#两列之间的相关性\n",
    "data = iris['data']\n",
    "print(np.corrcoef(data[:, 0], data[:, 2])[0, 1])\n",
    "\n",
    "np.isnan(data).any()#any全为假则假，有真为真\n",
    "\n",
    "#numpy数组中用0替换所有缺失值\n",
    "data[np.isnan(data)] = 0"
   ]
  },
  {
   "cell_type": "code",
   "execution_count": 141,
   "metadata": {},
   "outputs": [
    {
     "name": "stdout",
     "output_type": "stream",
     "text": [
      "[27.63 14.64 21.8  42.39  1.23  6.96 33.87 41.47  7.7  29.18 44.67 11.25\n",
      " 10.08  6.31 11.77 48.95 40.77  9.43 41.   14.43] \n",
      "\n",
      "[27.63 14.64 21.8  30.   10.   10.   30.   30.   10.   29.18 30.   11.25\n",
      " 10.08 10.   11.77 30.   30.   10.   30.   14.43]\n"
     ]
    }
   ],
   "source": [
    "#从数组a中，替换所有大于30到30和小于10到10的值。\n",
    "# Input\n",
    "np.set_printoptions(precision=2)\n",
    "np.random.seed(100)\n",
    "a = np.random.uniform(1,50, 20)#均匀分布随机采样，1-50中采20个数\n",
    "print(a,\"\\n\")\n",
    "\n",
    "b = np.where(a > 30, 30, a)\n",
    "\n",
    "\n",
    "print(np.where(a < 10, 10,b))# np.where(condition, x, y)\n",
    "# > [ 27.63  14.64  21.8   30.    10.    10.    30.    30.    10.    29.18  30.\n",
    "# >   11.25  10.08  10.    11.77  30.    30.    10.    30.    14.43]"
   ]
  },
  {
   "cell_type": "code",
   "execution_count": 154,
   "metadata": {},
   "outputs": [
    {
     "name": "stdout",
     "output_type": "stream",
     "text": [
      "a [27.63 14.64 21.8  42.39  1.23  6.96 33.87 41.47  7.7  29.18 44.67 11.25\n",
      " 10.08  6.31 11.77 48.95 40.77  9.43 41.   14.43]\n",
      "a.argsort [ 4 13  5  8 17 12 11 14 19  1  2  0  9  6 16 18  7  3 10 15]\n",
      "[18  7  3 10 15]\n",
      "value [41.   41.47 42.39 44.67 48.95]\n"
     ]
    }
   ],
   "source": [
    "#获取给定数组a中前5个最大值的位置。\n",
    "# Input\n",
    "np.random.seed(100)\n",
    "a = np.random.uniform(1,50, 20)\n",
    "print(\"a\",a)\n",
    "# Solution:\n",
    "print(\"a.argsort\",a.argsort())#升序排序，输出类标\n",
    "print(a.argsort()[-5:])\n",
    "\n",
    "print(\"value\",a[a.argsort()][-5:])"
   ]
  },
  {
   "cell_type": "code",
   "execution_count": 155,
   "metadata": {},
   "outputs": [
    {
     "name": "stdout",
     "output_type": "stream",
     "text": [
      "[0 1 2]\n",
      "[3 4 5 6]\n",
      "[7 8 9]\n",
      "[0 1 2 3 4 5 6 7 8 9]\n"
     ]
    }
   ],
   "source": [
    "#将array_of_arrays转换为扁平线性1d数组。\n",
    "arr1 = np.arange(3)\n",
    "arr2 = np.arange(3,7)\n",
    "arr3 = np.arange(7,10)\n",
    "print(arr1)\n",
    "print(arr2)\n",
    "print(arr3)\n",
    "array_of_arrays = np.array([arr1, arr2, arr3])\n",
    "arr_2d = np.concatenate(array_of_arrays)\n",
    "print(arr_2d)"
   ]
  },
  {
   "cell_type": "code",
   "execution_count": 159,
   "metadata": {},
   "outputs": [
    {
     "name": "stdout",
     "output_type": "stream",
     "text": [
      "[2 3 2 2 2 1]\n",
      "[1 2 3]\n",
      "[[0. 1. 0.]\n",
      " [0. 0. 1.]\n",
      " [0. 1. 0.]\n",
      " [0. 1. 0.]\n",
      " [0. 1. 0.]\n",
      " [1. 0. 0.]]\n"
     ]
    }
   ],
   "source": [
    "#one-hot\n",
    "np.random.seed(101) \n",
    "arr = np.random.randint(1,4, size=6)\n",
    "print(arr)\n",
    "# > array([2, 3, 2, 2, 2, 1])\n",
    "\n",
    "def one_hot_encodings(arr):\n",
    "    uniqs = np.unique(arr)\n",
    "    print(uniqs) #类似于set\n",
    "    out = np.zeros((arr.shape[0], uniqs.shape[0]))\n",
    "    for i, k in enumerate(arr):\n",
    "        out[i, k-1] = 1\n",
    "    return out\n",
    "\n",
    "print(one_hot_encodings(arr))"
   ]
  },
  {
   "cell_type": "code",
   "execution_count": 162,
   "metadata": {},
   "outputs": [
    {
     "name": "stdout",
     "output_type": "stream",
     "text": [
      "Array:  [ 9  4 15  0 17 16 17  8  9  0]\n",
      "[3 9 1 7 0 8 2 5 4 6]\n",
      "[4 2 6 0 8 7 9 3 5 1]\n",
      "Array:  [ 9  4 15  0 17 16 17  8  9  0]\n"
     ]
    }
   ],
   "source": [
    "#为给定的数字数组a创建排名。\n",
    "np.random.seed(10)\n",
    "a = np.random.randint(20, size=10)\n",
    "print('Array: ', a)\n",
    "\n",
    "# Solution\n",
    "print(a.argsort())#对数组a的元素升序排序，输出下标\n",
    "print(a.argsort().argsort())#对下标数组排序\n",
    "print('Array: ', a)"
   ]
  },
  {
   "cell_type": "code",
   "execution_count": 168,
   "metadata": {},
   "outputs": [
    {
     "name": "stdout",
     "output_type": "stream",
     "text": [
      "[[ 9  4 15  0 17]\n",
      " [16 17  8  9  0]]\n",
      "[ 9  4 15  0 17 16 17  8  9  0]\n",
      "[[4 2 6 0 8]\n",
      " [7 9 3 5 1]]\n"
     ]
    }
   ],
   "source": [
    "#创建与给定数字数组a相同形状的排名数组。\n",
    "np.random.seed(10)\n",
    "a = np.random.randint(20, size=[2,5])\n",
    "print(a)\n",
    "print(a.ravel())#降维\n",
    "print(a.ravel().argsort().argsort().reshape(a.shape))"
   ]
  },
  {
   "cell_type": "code",
   "execution_count": 171,
   "metadata": {},
   "outputs": [
    {
     "name": "stdout",
     "output_type": "stream",
     "text": [
      "[[9 9 4]\n",
      " [8 8 1]\n",
      " [5 3 6]\n",
      " [3 3 3]\n",
      " [2 1 9]]\n",
      "[9 8 6 3 9]\n",
      "[4 1 3 3 1]\n"
     ]
    }
   ],
   "source": [
    "#计算给定数组中每行的最大值和最小值。\n",
    "# Input\n",
    "np.random.seed(100)\n",
    "a = np.random.randint(1,10, [5,3])\n",
    "print(a)\n",
    "\n",
    "print(np.amax(a, axis=1))\n",
    "print(np.amin(a, axis=1))"
   ]
  },
  {
   "cell_type": "code",
   "execution_count": 183,
   "metadata": {},
   "outputs": [
    {
     "name": "stdout",
     "output_type": "stream",
     "text": [
      "a [0 0 3 0 2 4 2 2 2 2]\n",
      "out [ True  True  True  True  True  True  True  True  True  True]\n",
      "c [0 2 3 4]\n",
      "s [0 4 2 5]\n",
      "unique_positions [0 4 2 5]\n",
      "[False  True False  True False False  True  True  True  True]\n"
     ]
    }
   ],
   "source": [
    "#在给定的numpy数组中找到重复的条目(第二次出现以后)，并将它们标记为True。第一次出现应该是False的。\n",
    "# Input\n",
    "np.random.seed(100)\n",
    "a = np.random.randint(0, 5, 10)\n",
    "print(\"a\",a)\n",
    "\n",
    "out = np.full(a.shape[0], True)\n",
    "print(\"out\",out)\n",
    "unique_positions = np.unique(a, return_index=True)[1]\n",
    "c,s = np.unique(a, return_index=True)\n",
    "print(\"c\",c)#c是不重复元素\n",
    "print(\"s\",s)#s是对应下标\n",
    "print(\"unique_positions\",unique_positions)\n",
    "out[unique_positions] = False\n",
    "print(out)"
   ]
  },
  {
   "cell_type": "code",
   "execution_count": 185,
   "metadata": {},
   "outputs": [
    {
     "name": "stdout",
     "output_type": "stream",
     "text": [
      "[1. 2. 3. 5. 6. 7.]\n"
     ]
    }
   ],
   "source": [
    "#从一维numpy数组中删除所有NaN值\n",
    "a = np.array([1,2,3,np.nan,5,6,7,np.nan])\n",
    "a[~np.isnan(a)]\n",
    "print(a[~np.isnan(a)])"
   ]
  },
  {
   "cell_type": "code",
   "execution_count": 186,
   "metadata": {},
   "outputs": [
    {
     "name": "stdout",
     "output_type": "stream",
     "text": [
      "6.708203932499369\n"
     ]
    }
   ],
   "source": [
    "#计算两个数组a和数组b之间的欧氏距离。\n",
    "a = np.array([1,2,3,4,5])\n",
    "b = np.array([4,5,6,7,8])\n",
    "dist = np.linalg.norm(a-b)\n",
    "print(dist)"
   ]
  },
  {
   "cell_type": "code",
   "execution_count": 197,
   "metadata": {},
   "outputs": [
    {
     "name": "stdout",
     "output_type": "stream",
     "text": [
      "[ 2  4 -6  1  4 -6  1]\n",
      "[ 0 -2  2  0 -2  2]\n",
      "(array([1, 4]),)\n"
     ]
    },
    {
     "data": {
      "text/plain": [
       "array([2, 5])"
      ]
     },
     "execution_count": 197,
     "metadata": {},
     "output_type": "execute_result"
    }
   ],
   "source": [
    "#找到一个一维数字数组a中的所有峰值。峰顶是两边被较小数值包围的点。\n",
    "a = np.array([1, 3, 7, 1, 2, 6, 0, 1])\n",
    "doublediff = np.diff(np.sign(np.diff(a)))#np.diff是后一个元素-前一个元素\n",
    "print(np.diff(a))\n",
    "print(doublediff)\n",
    "peak_locations = np.where(doublediff == -2)[0] + 1\n",
    "print(np.where(doublediff == -2))#(array([1, 4]),)\n",
    "peak_locations\n",
    "# > array([2, 5])"
   ]
  },
  {
   "cell_type": "code",
   "execution_count": 202,
   "metadata": {},
   "outputs": [
    {
     "name": "stdout",
     "output_type": "stream",
     "text": [
      "[[1]\n",
      " [2]\n",
      " [3]]\n",
      "[[2 2 2]\n",
      " [2 2 2]\n",
      " [2 2 2]]\n"
     ]
    }
   ],
   "source": [
    "# 从二维数组中减去一维数组，其中一维数组的每一项从各自的行中减去？\n",
    "a_2d = np.array([[3,3,3],[4,4,4],[5,5,5]])\n",
    "b_1d = np.array([1,2,3]).reshape(3,1)\n",
    "print(b_1d)\n",
    "print(a_2d - b_1d)"
   ]
  },
  {
   "cell_type": "code",
   "execution_count": 205,
   "metadata": {},
   "outputs": [
    {
     "name": "stdout",
     "output_type": "stream",
     "text": [
      "(array([ 0,  2,  3,  7,  8, 10, 11]),)\n"
     ]
    }
   ],
   "source": [
    "#找出x中数字1的第5次重复的索引。\n",
    "x = np.array([1, 2, 1, 1, 3, 4, 3, 1, 1, 2, 1, 1, 2])\n",
    "n = 5\n",
    "\n",
    "# Solution 2: Numpy version\n",
    "np.where(x == 1)[0][n-1]\n",
    "print(np.where(x == 1))#(array([ 0,  2,  3,  7,  8, 10, 11]),)输出元素为1的下标，是一个tuple，得加[0]，构成数组\n",
    "# > 8"
   ]
  },
  {
   "cell_type": "code",
   "execution_count": 208,
   "metadata": {},
   "outputs": [
    {
     "data": {
      "text/plain": [
       "datetime.datetime(2018, 2, 25, 22, 10, 10)"
      ]
     },
     "execution_count": 208,
     "metadata": {},
     "output_type": "execute_result"
    }
   ],
   "source": [
    "#将numpy的datetime64对象转换为datetime的datetime对象\n",
    "dt64 = np.datetime64('2018-02-25 22:10:10')\n",
    "dt64.tolist() #  datetime.datetime(2018, 2, 25, 22, 10, 10)"
   ]
  },
  {
   "cell_type": "code",
   "execution_count": 213,
   "metadata": {},
   "outputs": [
    {
     "name": "stdout",
     "output_type": "stream",
     "text": [
      "array:  [8 8 3 7 7 0 4 2 5 2]\n",
      "ret [ 8. 16. 19. 26. 33. 33. 37. 39. 44. 46.]\n",
      "ret[n:] [26. 33. 33. 37. 39. 44. 46.]\n",
      "ret[:-n] [ 8. 16. 19. 26. 33. 33. 37.]\n"
     ]
    },
    {
     "data": {
      "text/plain": [
       "array([6.33, 6.  , 5.67, 4.67, 3.67, 2.  , 3.67, 3.  ])"
      ]
     },
     "execution_count": 213,
     "metadata": {},
     "output_type": "execute_result"
    }
   ],
   "source": [
    "#对于给定的一维数组，计算窗口大小为3的移动平均值。\n",
    "def moving_average(a, n=3) :\n",
    "    ret = np.cumsum(a, dtype=float)#累加第i个元素=a[0]+a[1]+……+a[i-1]\n",
    "    print(\"ret\",ret)\n",
    "    print(\"ret[n:]\",ret[n:])#下标从n开始，一直到结尾\n",
    "    print(\"ret[:-n]\",ret[:-n])\n",
    "    ret[n:] = ret[n:] - ret[:-n]\n",
    "    return ret[n - 1:] / n\n",
    "\n",
    "np.random.seed(100)\n",
    "Z = np.random.randint(10, size=10)\n",
    "print('array: ', Z)\n",
    "moving_average(Z, n=3).round(2)"
   ]
  },
  {
   "cell_type": "code",
   "execution_count": 214,
   "metadata": {},
   "outputs": [
    {
     "data": {
      "text/plain": [
       "array([ 5,  8, 11, 14, 17, 20, 23, 26, 29, 32])"
      ]
     },
     "execution_count": 214,
     "metadata": {},
     "output_type": "execute_result"
    }
   ],
   "source": [
    "#创建长度为10的numpy数组，从5开始，在连续的数字之间的步长为3。\n",
    "length = 10\n",
    "start = 5\n",
    "step = 3\n",
    "\n",
    "def seq(start, length, step):\n",
    "    end = start + (step*length)\n",
    "    return np.arange(start, end, step)\n",
    "\n",
    "seq(start, length, step)"
   ]
  },
  {
   "cell_type": "code",
   "execution_count": 215,
   "metadata": {},
   "outputs": [
    {
     "name": "stdout",
     "output_type": "stream",
     "text": [
      "[[ 0  1  2  3]\n",
      " [ 2  3  4  5]\n",
      " [ 4  5  6  7]\n",
      " [ 6  7  8  9]\n",
      " [ 8  9 10 11]\n",
      " [10 11 12 13]]\n"
     ]
    }
   ],
   "source": [
    "#从给定的一维数组arr中，利用步进生成一个二维矩阵，窗口长度为4，步距为2，类似于 [[0,1,2,3], [2,3,4,5], [4,5,6,7]..]\n",
    "def gen_strides(a, stride_len=5, window_len=5):\n",
    "    n_strides = ((a.size-window_len)//stride_len) + 1\n",
    "    # return np.array([a[s:(s+window_len)] for s in np.arange(0, a.size, stride_len)[:n_strides]])\n",
    "    return np.array([a[s:(s+window_len)] for s in np.arange(0, n_strides*stride_len, stride_len)])\n",
    "\n",
    "print(gen_strides(np.arange(15), stride_len=2, window_len=4))"
   ]
  },
  {
   "cell_type": "code",
   "execution_count": 230,
   "metadata": {},
   "outputs": [
    {
     "name": "stdout",
     "output_type": "stream",
     "text": [
      "['2018-02-01' '2018-02-03' '2018-02-05' '2018-02-07' '2018-02-09'\n",
      " '2018-02-11' '2018-02-13' '2018-02-15' '2018-02-17' '2018-02-19'\n",
      " '2018-02-21' '2018-02-23']\n",
      "[2 2 2 2 2 2 2 2 2 2 2]\n",
      "filled_in_preReshape [['2018-02-01' '2018-02-02']\n",
      " ['2018-02-03' '2018-02-04']\n",
      " ['2018-02-05' '2018-02-06']\n",
      " ['2018-02-07' '2018-02-08']\n",
      " ['2018-02-09' '2018-02-10']\n",
      " ['2018-02-11' '2018-02-12']\n",
      " ['2018-02-13' '2018-02-14']\n",
      " ['2018-02-15' '2018-02-16']\n",
      " ['2018-02-17' '2018-02-18']\n",
      " ['2018-02-19' '2018-02-20']\n",
      " ['2018-02-21' '2018-02-22']]\n",
      "filled_in ['2018-02-01' '2018-02-02' '2018-02-03' '2018-02-04' '2018-02-05'\n",
      " '2018-02-06' '2018-02-07' '2018-02-08' '2018-02-09' '2018-02-10'\n",
      " '2018-02-11' '2018-02-12' '2018-02-13' '2018-02-14' '2018-02-15'\n",
      " '2018-02-16' '2018-02-17' '2018-02-18' '2018-02-19' '2018-02-20'\n",
      " '2018-02-21' '2018-02-22']\n",
      "output ['2018-02-01' '2018-02-02' '2018-02-03' '2018-02-04' '2018-02-05'\n",
      " '2018-02-06' '2018-02-07' '2018-02-08' '2018-02-09' '2018-02-10'\n",
      " '2018-02-11' '2018-02-12' '2018-02-13' '2018-02-14' '2018-02-15'\n",
      " '2018-02-16' '2018-02-17' '2018-02-18' '2018-02-19' '2018-02-20'\n",
      " '2018-02-21' '2018-02-22' '2018-02-23']\n"
     ]
    }
   ],
   "source": [
    "#给定一系列不连续的日期序列。填写缺失的日期，使其成为连续的日期序列。\n",
    "dates = np.arange(np.datetime64('2018-02-01'), np.datetime64('2018-02-25'), 2)\n",
    "print(dates)\n",
    "# ['2018-02-01' '2018-02-03' '2018-02-05' '2018-02-07' '2018-02-09'\n",
    "#  '2018-02-11' '2018-02-13' '2018-02-15' '2018-02-17' '2018-02-19'\n",
    "#  '2018-02-21' '2018-02-23']\n",
    "print(np.diff(dates))#dates元素12个，diff11个元素\n",
    "# [2 2 2 2 2 2 2 2 2 2 2]\n",
    "filled_in = np.array([np.arange(date, (date+d)) for date, d in zip(dates, np.diff(dates))]).reshape(-1) #reshape(-1)一维数组，reshape(-1,1)1列n行\n",
    "print(\"filled_in_preReshape\",np.array([np.arange(date, (date+d)) for date, d in zip(dates, np.diff(dates))]))\n",
    "# filled_in [['2018-02-01' '2018-02-02']\n",
    "#  ['2018-02-03' '2018-02-04']\n",
    "#  ['2018-02-05' '2018-02-06']\n",
    "#  ['2018-02-07' '2018-02-08']\n",
    "#  ['2018-02-09' '2018-02-10']\n",
    "#  ['2018-02-11' '2018-02-12']\n",
    "#  ['2018-02-13' '2018-02-14']\n",
    "#  ['2018-02-15' '2018-02-16']\n",
    "#  ['2018-02-17' '2018-02-18']\n",
    "#  ['2018-02-19' '2018-02-20']\n",
    "#  ['2018-02-21' '2018-02-22']]\n",
    "print(\"filled_in\",filled_in)\n",
    "#  ['2018-02-01' '2018-02-02' '2018-02-03' '2018-02-04' '2018-02-05'\n",
    "#  '2018-02-06' '2018-02-07' '2018-02-08' '2018-02-09' '2018-02-10'\n",
    "#  '2018-02-11' '2018-02-12' '2018-02-13' '2018-02-14' '2018-02-15'\n",
    "#  '2018-02-16' '2018-02-17' '2018-02-18' '2018-02-19' '2018-02-20'\n",
    "#  '2018-02-21' '2018-02-22']\n",
    "output = np.hstack([filled_in, dates[-1]])#加上最后一个\n",
    "print(\"output\",output)\n"
   ]
  },
  {
   "cell_type": "code",
   "execution_count": null,
   "metadata": {},
   "outputs": [],
   "source": []
  }
 ],
 "metadata": {
  "kernelspec": {
   "display_name": "Python 3",
   "language": "python",
   "name": "python3"
  },
  "language_info": {
   "codemirror_mode": {
    "name": "ipython",
    "version": 3
   },
   "file_extension": ".py",
   "mimetype": "text/x-python",
   "name": "python",
   "nbconvert_exporter": "python",
   "pygments_lexer": "ipython3",
   "version": "3.6.4"
  }
 },
 "nbformat": 4,
 "nbformat_minor": 2
}
